{
 "cells": [
  {
   "cell_type": "markdown",
   "metadata": {},
   "source": [
    "<h1>Calculating the Number of People Passing the Fremont Bridge"
   ]
  },
  {
   "cell_type": "markdown",
   "metadata": {},
   "source": [
    "Genevieve Gottlieb\n",
    "Big Data, Lab 1\n",
    "9/20/16"
   ]
  },
  {
   "cell_type": "code",
   "execution_count": 11,
   "metadata": {
    "collapsed": false
   },
   "outputs": [],
   "source": [
    "#Open and save the file for reading\n",
    "data_file = open(\"FreBridge1.csv\", \"r\");\n",
    "#Create empty list to store data\n",
    "data_list = [];\n",
    "#Put all lines from file into list\n",
    "for ii in data_file:\n",
    "    data_list.append(ii);\n",
    "#Remove first element (column header)\n",
    "del data_list[0];\n",
    "#Create empty lists for westbound/eastbound people\n",
    "west = [];\n",
    "east = [];    \n",
    "#For loop for lists\n",
    "for jj in range(len(data_list)):\n",
    "    #Make into a list of lists of just numbers\n",
    "    data_list[jj] = data_list[jj].split(\",\");\n",
    "    #Add data to specific lists for west and east\n",
    "    west.append(int(data_list[jj][1]));\n",
    "    east.append(int(data_list[jj][2]));"
   ]
  },
  {
   "cell_type": "code",
   "execution_count": 29,
   "metadata": {
    "collapsed": false,
    "scrolled": true
   },
   "outputs": [
    {
     "name": "stdout",
     "output_type": "stream",
     "text": [
      "The median going west is 1573.5\n",
      "The mean going west is 1497.5666666666666\n",
      "The median going east is 1648.0\n",
      "The mean going east is 1540.4333333333334\n",
      "The highest day going west is 22\n",
      "The highest day going east is 21\n"
     ]
    },
    {
     "data": {
      "text/plain": [
       "<matplotlib.text.Text at 0x11004b2e8>"
      ]
     },
     "execution_count": 29,
     "metadata": {},
     "output_type": "execute_result"
    },
    {
     "data": {
      "image/png": "[encoded data removed]",
      "text/plain": [
       "<matplotlib.figure.Figure at 0x110203828>"
      ]
     },
     "metadata": {},
     "output_type": "display_data"
    }
   ],
   "source": [
    "#Allows statistics to be used\n",
    "import statistics\n",
    "#Prints statistics of lists\n",
    "print(\"The median going west is\", statistics.median(west))\n",
    "print(\"The mean going west is\", statistics.mean(west))\n",
    "print(\"The median going east is\", statistics.median(east))\n",
    "print(\"The mean going east is\", statistics.mean(east))\n",
    "print(\"The highest day going west is\", west.index(max(west)))\n",
    "print(\"The highest day going east is\", east.index(max(east)))\n",
    "#Imports graph and makes it\n",
    "import matplotlib.pyplot as plt\n",
    "% matplotlib inline\n",
    "#Coordinates and details for graph\n",
    "plt.hist(west)\n",
    "plt.hist(east, alpha = 0.5)\n",
    "plt.title(\"Number of People going West (Green) and East (Blue) on the Fremont Bridge\")\n",
    "plt.xlabel(\"Number of People\")\n",
    "plt.ylabel(\"Frequency of Number\")"
   ]
  },
  {
   "cell_type": "markdown",
   "metadata": {},
   "source": [
    "<h3>Analysis of Part 1"
   ]
  },
  {
   "cell_type": "markdown",
   "metadata": {},
   "source": [
    "   In real world terms, the mean is how many people cross the Fremont Bridge on average, the median is the middle number of people who cross the bridge when in order from smallest to greatest, and there is no mode in this case, because every day a different number of people cross the bridge; there are no repeats.\n",
    "   In this case, out of the mean, median, and mode, the mean and median give the most information. When outliers are present, the mean receives the information of the outliers better than the median, but the median shows where the data is due to its resistance to the outliers. For this data the mean and median will be similar, because this data is fairly regular and has no great outliers.\n",
    "   Some other calculations that would give more information, are finding out how much whether the day is a weekday or weekend effects the number of people crossing, finding out how much the month or weather effects the number of people crossing, and finding out the range of how much the numbers vary from week to week.\n",
    "   Monday and Tuesday have the highest number of crossings out of the week. Even more specifically, Tuesday the 22nd and Monday the 21st are the days with the highest number of crossings. This information was found by getting the maximum numbers going both west and east, and looking up what days of the week they were."
   ]
  },
  {
   "cell_type": "code",
   "execution_count": 6,
   "metadata": {
    "collapsed": false
   },
   "outputs": [
    {
     "name": "stdout",
     "output_type": "stream",
     "text": [
      "List of number of people crossing each September 30th, both west and east combined [2259, 3562, 4055]\n"
     ]
    }
   ],
   "source": [
    "#Open and save the file for reading\n",
    "data_file1 = open(\"FreBridge2.csv\", \"r\");\n",
    "#Create empty list to store data\n",
    "data_list1 = [];\n",
    "#Put all lines from file into list\n",
    "for jj in data_file1:\n",
    "    data_list1.append(jj);\n",
    "#Remove first element (column header)\n",
    "del data_list1[0];\n",
    "#For loop for lists\n",
    "for jj in range(len(data_list1)):\n",
    "    #Make into a list of lists of just numbers\n",
    "    data_list1[jj] = data_list1[jj].split(\",\");\n",
    "    #Add data to specific lists for west and east\n",
    "    west.append(int(data_list1[jj][1]));\n",
    "    east.append(int(data_list1[jj][2]));\n",
    "#Makes list for September days\n",
    "sep_days = []\n",
    "#Finding September 30th days\n",
    "for jj in data_list1:\n",
    "    if jj[0][:4]==('9/30'):\n",
    "        sep_days.append(int(jj[1])+int(jj[2]))\n",
    "#Prints\n",
    "print(\"List of number of people crossing each September 30th, both west and east combined\", sep_days)\n",
    "#September 30th 2013 was a Monday\n",
    "#September 30th 2014 was a Tuesday\n",
    "#September 30th 2015 was a Wednesday\n",
    "#September 30th 2016 was a Friday"
   ]
  },
  {
   "cell_type": "code",
   "execution_count": 10,
   "metadata": {
    "collapsed": false,
    "scrolled": true
   },
   "outputs": [
    {
     "name": "stdout",
     "output_type": "stream",
     "text": [
      "List of September 30th days 48\n",
      "Min of uniform is:  1938\n",
      "Max of uniform is:  4187\n",
      "Mean of uniform is:  3062.5\n"
     ]
    },
    {
     "data": {
      "image/png": "[encoded data removed]",
      "text/plain": [
       "<matplotlib.figure.Figure at 0x10961a4a8>"
      ]
     },
     "metadata": {},
     "output_type": "display_data"
    },
    {
     "name": "stdout",
     "output_type": "stream",
     "text": [
      "Variance of uniform is:  421500.083333\n",
      "Standard deviation of uniform is: 649.2303777037341\n"
     ]
    }
   ],
   "source": [
    "#Imports\n",
    "import datetime\n",
    "import numpy as np\n",
    "import scipy\n",
    "import math;\n",
    "#Create empty list to store data\n",
    "relevant_days = []\n",
    "for jj in data_list1:\n",
    "    if jj[0][:1]==('9') or jj[0][:1]==('8') or jj[0][:2]==('10'):\n",
    "        month, day, year = (int(x) for x in jj[0].split('/'));\n",
    "        date = datetime.date(year, month, day);\n",
    "        if date.weekday() == 4: #4 represents Friday\n",
    "            relevant_days.append(int(jj[1])+int(jj[2]));\n",
    "#Print stuff:\n",
    "print(\"List of September 30th days\", len(relevant_days))\n",
    "#Parameters for uniform distribution, a and b, are:\n",
    "print(\"Min of uniform is: \", np.min(relevant_days))\n",
    "print(\"Max of uniform is: \", np.max(relevant_days))\n",
    "print(\"Mean of uniform is: \", (np.max(relevant_days) + np.min(relevant_days))/2.0)\n",
    "#Import graph and make it\n",
    "import matplotlib.pyplot as plt\n",
    "% matplotlib inline\n",
    "#Coordinates and detail for graph\n",
    "plt.hist(relevant_days);\n",
    "plt.title(\"Liklihood of Number of People crossing the Bridge on Fridays, August-October\")\n",
    "plt.xlabel(\"Number of People\")\n",
    "plt.ylabel(\"Frequency of Number\")\n",
    "plt.show()\n",
    "variance = ((1/12.0) * ((np.max(relevant_days) - np.min(relevant_days))**2.0))\n",
    "print(\"Variance of uniform is: \", variance)\n",
    "print(\"Standard deviation of uniform is:\", math.sqrt(variance))"
   ]
  },
  {
   "cell_type": "markdown",
   "metadata": {},
   "source": [
    "<h3>Analysis of Part 2"
   ]
  },
  {
   "cell_type": "markdown",
   "metadata": {},
   "source": [
    "   I think the mean of the September 30th days would be helpful, to see what September 30th's usually are. I did this, and it did help - it showed me that there every September 30th the number of people crossing the Fremont Bridge increases. \n",
    "   Seeing as this data seems to fit best as a uniform distribution, the standard distribution is different than for normal distributions. So in this case it would not be as helpful.\n",
    "   Some factors that would be helpful to consider are that the weather and the day of the week greatly impacts the number of people crossing the bridge. Depending on if it is December or July, the number will change. People would much rather be out biking or walking on a nice day rather than when it is cold and raining. The number also fluctuates depending what day of the week it is. Whether it is a weekday or the weekend influences how many people are walking. \n",
    "   I think my prediction will be within 1938 and 4187."
   ]
  },
  {
   "cell_type": "markdown",
   "metadata": {},
   "source": [
    "<h3>Conclusion"
   ]
  },
  {
   "cell_type": "markdown",
   "metadata": {},
   "source": [
    "I have concluded from this lab that on Friday September 30th this year, 3050 people will pass the Fremont Bridge. The range is within 2000 and 4000. While I have given a prediction of how many people will walk across the bridge on the 30th, there is no greater chance of that than any other numbers between 2000 and 4000. The mean in this case doesn't represent an increased frequency. While I could make a confidence interval, the data is a uniform distribution, so essentially it would be repeating what I've stated already, saying that there is a 95% chance that the number is from 2000 to 4000. So while I have given a prediction of 3050, there really is an equal likelihood that any number from 2000 to 4000 is how many people will cross the bridge September 30th."
   ]
  }
 ],
 "metadata": {
  "anaconda-cloud": {},
  "kernelspec": {
   "display_name": "Python [Root]",
   "language": "python",
   "name": "Python [Root]"
  },
  "language_info": {
   "codemirror_mode": {
    "name": "ipython",
    "version": 3
   },
   "file_extension": ".py",
   "mimetype": "text/x-python",
   "name": "python",
   "nbconvert_exporter": "python",
   "pygments_lexer": "ipython3",
   "version": "3.5.2"
  }
 },
 "nbformat": 4,
 "nbformat_minor": 0
}
